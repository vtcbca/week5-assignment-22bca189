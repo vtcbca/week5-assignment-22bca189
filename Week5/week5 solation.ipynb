{
 "cells": [
  {
   "cell_type": "code",
   "execution_count": 1,
   "id": "0272f6f7-8d73-4800-9a75-9e1db7a8a863",
   "metadata": {},
   "outputs": [],
   "source": [
    "import csv\n"
   ]
  },
  {
   "cell_type": "code",
   "execution_count": 2,
   "id": "345b0338-c0cd-4d3b-885e-133c29ffc555",
   "metadata": {},
   "outputs": [],
   "source": [
    "a=['sid','sname','city','contact']"
   ]
  },
  {
   "cell_type": "code",
   "execution_count": 3,
   "id": "153380f0-d664-4985-870a-4266beb0bf7d",
   "metadata": {},
   "outputs": [],
   "source": [
    "records=[[1,'om','surat',9876543210],\n",
    "         [2,'sai','mandvi',9875164626],\n",
    "         [3,'ram','navsari',9576245612],\n",
    "         [4,'radha','ahwa',6578943210],\n",
    "         [5,'krishna','delhi',7866600450]]"
   ]
  },
  {
   "cell_type": "code",
   "execution_count": 4,
   "id": "81f45f80-f89f-4403-9e58-8ce8d4a3db7c",
   "metadata": {},
   "outputs": [],
   "source": [
    "p=[]"
   ]
  },
  {
   "cell_type": "code",
   "execution_count": 5,
   "id": "0e90e3c5-7d3c-4f09-87a5-fd3b2bef8fce",
   "metadata": {},
   "outputs": [
    {
     "name": "stdin",
     "output_type": "stream",
     "text": [
      "enter student id: 6\n",
      "enter student name: bhavik\n",
      "enter student city: ahemdabad\n",
      "enter student contact number: 6354730446\n",
      "enter student id: 7\n",
      "enter student name: meet\n",
      "enter student city: bardoli\n",
      "enter student contact number: 9864318204\n",
      "enter student id: 8\n",
      "enter student name: dev\n",
      "enter student city: surat\n",
      "enter student contact number: 7685246130\n",
      "enter student id: 9\n",
      "enter student name: deep\n",
      "enter student city: mandvi\n",
      "enter student contact number: 6485297625\n",
      "enter student id: 10\n",
      "enter student name: nikhil\n",
      "enter student city: bardoli\n",
      "enter student contact number: 7564382460\n"
     ]
    }
   ],
   "source": [
    "for i in range(5):\n",
    "    sid=int(input(\"enter student id:\"))\n",
    "    sname=input(\"enter student name:\")\n",
    "    city=input(\"enter student city:\")\n",
    "    contact=int(input(\"enter student contact number:\"))\n",
    "    l=[sid,sname,city,contact]\n",
    "    p.append(l)"
   ]
  },
  {
   "cell_type": "code",
   "execution_count": 6,
   "id": "98494fdb-0d2c-41b9-acb4-ab63d3530e65",
   "metadata": {},
   "outputs": [],
   "source": [
    "with open('C:\\sqlite3\\student1.csv','w',newline='') as f:\n",
    "    file=csv.writer(f)\n",
    "    file.writerow(a)\n",
    "    file.writerows(records)\n",
    "    file.writerows(p)"
   ]
  },
  {
   "cell_type": "code",
   "execution_count": 7,
   "id": "8b18665c-7e58-42d9-89b2-c19c5bcb0e19",
   "metadata": {},
   "outputs": [
    {
     "name": "stdout",
     "output_type": "stream",
     "text": [
      "['sid', 'sname', 'city', 'contact']\n",
      "['1', 'om', 'surat', '9876543210']\n",
      "['2', 'sai', 'mandvi', '9875164626']\n",
      "['3', 'ram', 'navsari', '9576245612']\n",
      "['4', 'radha', 'ahwa', '6578943210']\n",
      "['5', 'krishna', 'delhi', '7866600450']\n",
      "['6', 'bhavik', 'ahemdabad', '6354730446']\n",
      "['7', 'meet', 'bardoli', '9864318204']\n",
      "['8', 'dev', 'surat', '7685246130']\n",
      "['9', 'deep', 'mandvi', '6485297625']\n",
      "['10', 'nikhil', 'bardoli', '7564382460']\n"
     ]
    }
   ],
   "source": [
    "with open('C:\\sqlite3\\student1.csv','r',newline='') as read:\n",
    "    all_record=csv.reader(read)\n",
    "    for records in all_record:\n",
    "        print(records)"
   ]
  },
  {
   "cell_type": "code",
   "execution_count": null,
   "id": "2f3049f4-2081-4857-8b51-214b94e2a0e4",
   "metadata": {},
   "outputs": [],
   "source": []
  }
 ],
 "metadata": {
  "kernelspec": {
   "display_name": "Python 3 (ipykernel)",
   "language": "python",
   "name": "python3"
  },
  "language_info": {
   "codemirror_mode": {
    "name": "ipython",
    "version": 3
   },
   "file_extension": ".py",
   "mimetype": "text/x-python",
   "name": "python",
   "nbconvert_exporter": "python",
   "pygments_lexer": "ipython3",
   "version": "3.9.6"
  }
 },
 "nbformat": 4,
 "nbformat_minor": 5
}
